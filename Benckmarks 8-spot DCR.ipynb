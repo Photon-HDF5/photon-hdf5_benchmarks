{
 "cells": [
  {
   "cell_type": "code",
   "execution_count": 1,
   "metadata": {
    "collapsed": false
   },
   "outputs": [],
   "source": [
    "filename = r'C:\\Data\\Antonio\\data\\8-spot 5samples data\\2014-02-26\\DCR_test_2.dat'"
   ]
  },
  {
   "cell_type": "code",
   "execution_count": 2,
   "metadata": {
    "collapsed": true
   },
   "outputs": [],
   "source": [
    "run_id = 1"
   ]
  },
  {
   "cell_type": "code",
   "execution_count": 3,
   "metadata": {
    "collapsed": true
   },
   "outputs": [],
   "source": [
    "%matplotlib inline\n",
    "import matplotlib.pyplot as plt\n",
    "import numpy as np\n",
    "import pandas as pd\n",
    "import os\n",
    "import tables"
   ]
  },
  {
   "cell_type": "code",
   "execution_count": 4,
   "metadata": {
    "collapsed": false
   },
   "outputs": [
    {
     "data": {
      "text/plain": [
       "'0.5.3-7-gc062ec1'"
      ]
     },
     "execution_count": 4,
     "metadata": {},
     "output_type": "execute_result"
    }
   ],
   "source": [
    "import phconvert as phc\n",
    "phc.__version__"
   ]
  },
  {
   "cell_type": "code",
   "execution_count": 5,
   "metadata": {
    "collapsed": true
   },
   "outputs": [],
   "source": [
    "import time\n",
    "\n",
    "class Timer:\n",
    "    def __init__(self, name):\n",
    "        self.name = name\n",
    "        \n",
    "    def __enter__(self):\n",
    "        self.start = time.clock()\n",
    "        return self\n",
    "\n",
    "    def __exit__(self, *args):\n",
    "        self.end = time.clock()\n",
    "        self.interval = self.end - self.start"
   ]
  },
  {
   "cell_type": "markdown",
   "metadata": {},
   "source": [
    "##Load FRETBursts software"
   ]
  },
  {
   "cell_type": "code",
   "execution_count": 6,
   "metadata": {
    "collapsed": false
   },
   "outputs": [
    {
     "name": "stdout",
     "output_type": "stream",
     "text": [
      " - Optimized (cython) burst search loaded.\n",
      " - Optimized (cython) photon counting loaded.\n",
      "-------------------------------------------------------------\n",
      " You are running FRETBursts (version 0.4.1-1-gcaa3c4c).\n",
      "\n",
      " If you use this software in a publication, please cite it as:\n",
      "\n",
      "   FRETBursts - An opensource single-molecule FRET bursts analysis toolkit.\n",
      "   A. Ingargiola 2014. https://github.com/tritemio/FRETBursts\n",
      "\n",
      "-------------------------------------------------------------\n"
     ]
    },
    {
     "name": "stderr",
     "output_type": "stream",
     "text": [
      ":0: FutureWarning: IPython widgets are experimental and may change in the future.\n"
     ]
    }
   ],
   "source": [
    "from fretbursts import *"
   ]
  },
  {
   "cell_type": "markdown",
   "metadata": {},
   "source": [
    "# DCR files"
   ]
  },
  {
   "cell_type": "code",
   "execution_count": 7,
   "metadata": {
    "collapsed": false
   },
   "outputs": [
    {
     "name": "stdout",
     "output_type": "stream",
     "text": [
      " - File loaded from cache: C:\\Data\\Antonio\\data\\8-spot 5samples data\\2014-02-26\\DCR_test_2.dat\n"
     ]
    }
   ],
   "source": [
    "d = loader.multispot8(filename)"
   ]
  },
  {
   "cell_type": "code",
   "execution_count": 8,
   "metadata": {
    "collapsed": false
   },
   "outputs": [
    {
     "data": {
      "text/plain": [
       "89476559"
      ]
     },
     "execution_count": 8,
     "metadata": {},
     "output_type": "execute_result"
    }
   ],
   "source": [
    "d.ph_data_sizes.sum()"
   ]
  },
  {
   "cell_type": "code",
   "execution_count": 9,
   "metadata": {
    "collapsed": false
   },
   "outputs": [
    {
     "data": {
      "text/plain": [
       "3887.3445987124996"
      ]
     },
     "execution_count": 9,
     "metadata": {},
     "output_type": "execute_result"
    }
   ],
   "source": [
    "d.time_max"
   ]
  },
  {
   "cell_type": "markdown",
   "metadata": {},
   "source": [
    "## Read the original data"
   ]
  },
  {
   "cell_type": "code",
   "execution_count": 10,
   "metadata": {
    "collapsed": false
   },
   "outputs": [
    {
     "name": "stdout",
     "output_type": "stream",
     "text": [
      " - Loading data \"C:\\Data\\Antonio\\data\\8-spot 5samples data\\2014-02-26\\DCR_test_2.dat\" ...  [DONE]\n",
      " - Processing data ...    [DONE Processing]\n"
     ]
    }
   ],
   "source": [
    "with Timer('mspot_read_speed_native') as t:\n",
    "    timestamps_m, A_em, _ = loader.load_data_ordered16(fname=filename, swap_D_A=False)"
   ]
  },
  {
   "cell_type": "code",
   "execution_count": 11,
   "metadata": {
    "collapsed": false
   },
   "outputs": [
    {
     "data": {
      "text/html": [
       "<div style=\"max-height:1000px;max-width:1500px;overflow:auto;\">\n",
       "<table border=\"1\" class=\"dataframe\">\n",
       "  <thead>\n",
       "    <tr style=\"text-align: right;\">\n",
       "      <th></th>\n",
       "      <th>native_numpy</th>\n",
       "    </tr>\n",
       "  </thead>\n",
       "  <tbody>\n",
       "    <tr>\n",
       "      <th>0</th>\n",
       "      <td>15.034636</td>\n",
       "    </tr>\n",
       "  </tbody>\n",
       "</table>\n",
       "</div>"
      ],
      "text/plain": [
       "   native_numpy\n",
       "0     15.034636"
      ]
     },
     "execution_count": 11,
     "metadata": {},
     "output_type": "execute_result"
    }
   ],
   "source": [
    "read_speed_native_numpy = pd.DataFrame({'native_numpy': t.interval}, index=[0])\n",
    "read_speed_native_numpy"
   ]
  },
  {
   "cell_type": "code",
   "execution_count": 12,
   "metadata": {
    "collapsed": false
   },
   "outputs": [
    {
     "name": "stdout",
     "output_type": "stream",
     "text": [
      " - Loading data \"C:\\Data\\Antonio\\data\\8-spot 5samples data\\2014-02-26\\DCR_test_2.dat\" ...  [DONE]\n",
      " - Processing data ... \n",
      "   - Swapping D and A channels ...  [DONE]\n",
      "   [DONE Processing]\n"
     ]
    }
   ],
   "source": [
    "with Timer('mspot_read_speed_native_swap') as t:\n",
    "    timestamps_m, A_em, _ = loader.load_data_ordered16(fname=filename, swap_D_A=True)"
   ]
  },
  {
   "cell_type": "code",
   "execution_count": 13,
   "metadata": {
    "collapsed": false
   },
   "outputs": [
    {
     "data": {
      "text/html": [
       "<div style=\"max-height:1000px;max-width:1500px;overflow:auto;\">\n",
       "<table border=\"1\" class=\"dataframe\">\n",
       "  <thead>\n",
       "    <tr style=\"text-align: right;\">\n",
       "      <th></th>\n",
       "      <th>native_numpy</th>\n",
       "    </tr>\n",
       "  </thead>\n",
       "  <tbody>\n",
       "    <tr>\n",
       "      <th>0</th>\n",
       "      <td>10.698903</td>\n",
       "    </tr>\n",
       "  </tbody>\n",
       "</table>\n",
       "</div>"
      ],
      "text/plain": [
       "   native_numpy\n",
       "0     10.698903"
      ]
     },
     "execution_count": 13,
     "metadata": {},
     "output_type": "execute_result"
    }
   ],
   "source": [
    "read_speed_native_numpy_swap = pd.DataFrame({'native_numpy': t.interval}, index=[0])\n",
    "read_speed_native_numpy_swap"
   ]
  },
  {
   "cell_type": "markdown",
   "metadata": {},
   "source": [
    "## Meatadata"
   ]
  },
  {
   "cell_type": "code",
   "execution_count": 14,
   "metadata": {
    "collapsed": true
   },
   "outputs": [],
   "source": [
    "ts_unit = 12.5e-9"
   ]
  },
  {
   "cell_type": "code",
   "execution_count": 15,
   "metadata": {
    "collapsed": false
   },
   "outputs": [],
   "source": [
    "acquisition_time = np.max([t[-1] - t[0] for t in timestamps_m])*ts_unit \n",
    "comment = 'DCR measurement for two 8-pixel POLIMI SPAD arrays (octopus).'\n",
    "\n",
    "setup = dict(num_pixels = 16)\n",
    "provenance = dict(filename=filename, software='phconvert', software_version=phc.__version__)\n",
    "\n",
    "data = dict(\n",
    "    _filename = filename,\n",
    "    acquisition_time = round(acquisition_time),\n",
    "    comment=comment,\n",
    "    setup=setup,\n",
    "    provenance=provenance)\n",
    "\n",
    "for ich, (times, a_em) in enumerate(zip(timestamps_m, A_em)):\n",
    "    data.update(**{\n",
    "            'photon_data%d' % ich: \n",
    "            dict(\n",
    "                timestamps = times,\n",
    "                timestamps_specs = dict(timestamps_unit=ts_unit),\n",
    "                detectors = a_em.view('uint8'))})"
   ]
  },
  {
   "cell_type": "code",
   "execution_count": 16,
   "metadata": {
    "collapsed": false
   },
   "outputs": [
    {
     "data": {
      "text/plain": [
       "['comment',\n",
       " 'acquisition_time',\n",
       " '_filename',\n",
       " 'setup',\n",
       " 'provenance',\n",
       " 'photon_data7',\n",
       " 'photon_data6',\n",
       " 'photon_data5',\n",
       " 'photon_data4',\n",
       " 'photon_data3',\n",
       " 'photon_data2',\n",
       " 'photon_data1',\n",
       " 'photon_data0']"
      ]
     },
     "execution_count": 16,
     "metadata": {},
     "output_type": "execute_result"
    }
   ],
   "source": [
    "data.keys()"
   ]
  },
  {
   "cell_type": "code",
   "execution_count": 17,
   "metadata": {
    "collapsed": false
   },
   "outputs": [
    {
     "name": "stdout",
     "output_type": "stream",
     "text": [
      "Photon-HDF5 WARNING: Missing measurement_specs in /photon_data.\n",
      "Photon-HDF5 WARNING: Missing \"/setup/num_spots\".\n",
      "Photon-HDF5 WARNING: Missing \"/setup/num_spectral_ch\".\n",
      "Photon-HDF5 WARNING: Missing \"/setup/num_polarization_ch\".\n",
      "Photon-HDF5 WARNING: Missing \"/setup/num_split_ch\".\n",
      "Photon-HDF5 WARNING: Missing \"/setup/modulated_excitation\".\n",
      "Photon-HDF5 WARNING: Missing \"/setup/lifetime\".\n"
     ]
    }
   ],
   "source": [
    "phc.hdf5.assert_valid_photon_hdf5(data, strict=False)"
   ]
  },
  {
   "cell_type": "markdown",
   "metadata": {},
   "source": [
    "# Save to Photon-HDF5"
   ]
  },
  {
   "cell_type": "code",
   "execution_count": 18,
   "metadata": {
    "collapsed": false
   },
   "outputs": [
    {
     "name": "stdout",
     "output_type": "stream",
     "text": [
      "C:\\Data\\Antonio\\data\\8-spot 5samples data\\2014-02-26\\DCR_test_2_zlib0.hdf5\n",
      "Saving: C:\\Data\\Antonio\\data\\8-spot 5samples data\\2014-02-26\\DCR_test_2_zlib0.hdf5\n",
      "C:\\Data\\Antonio\\data\\8-spot 5samples data\\2014-02-26\\DCR_test_2_zlib1.hdf5\n",
      "Saving: C:\\Data\\Antonio\\data\\8-spot 5samples data\\2014-02-26\\DCR_test_2_zlib1.hdf5\n",
      "C:\\Data\\Antonio\\data\\8-spot 5samples data\\2014-02-26\\DCR_test_2_zlib2.hdf5\n",
      "Saving: C:\\Data\\Antonio\\data\\8-spot 5samples data\\2014-02-26\\DCR_test_2_zlib2.hdf5\n",
      "C:\\Data\\Antonio\\data\\8-spot 5samples data\\2014-02-26\\DCR_test_2_zlib3.hdf5\n",
      "Saving: C:\\Data\\Antonio\\data\\8-spot 5samples data\\2014-02-26\\DCR_test_2_zlib3.hdf5\n",
      "C:\\Data\\Antonio\\data\\8-spot 5samples data\\2014-02-26\\DCR_test_2_zlib4.hdf5\n",
      "Saving: C:\\Data\\Antonio\\data\\8-spot 5samples data\\2014-02-26\\DCR_test_2_zlib4.hdf5\n",
      "C:\\Data\\Antonio\\data\\8-spot 5samples data\\2014-02-26\\DCR_test_2_zlib5.hdf5\n",
      "Saving: C:\\Data\\Antonio\\data\\8-spot 5samples data\\2014-02-26\\DCR_test_2_zlib5.hdf5\n",
      "C:\\Data\\Antonio\\data\\8-spot 5samples data\\2014-02-26\\DCR_test_2_zlib6.hdf5\n",
      "Saving: C:\\Data\\Antonio\\data\\8-spot 5samples data\\2014-02-26\\DCR_test_2_zlib6.hdf5\n",
      "C:\\Data\\Antonio\\data\\8-spot 5samples data\\2014-02-26\\DCR_test_2_zlib7.hdf5\n",
      "Saving: C:\\Data\\Antonio\\data\\8-spot 5samples data\\2014-02-26\\DCR_test_2_zlib7.hdf5\n",
      "C:\\Data\\Antonio\\data\\8-spot 5samples data\\2014-02-26\\DCR_test_2_zlib8.hdf5\n",
      "Saving: C:\\Data\\Antonio\\data\\8-spot 5samples data\\2014-02-26\\DCR_test_2_zlib8.hdf5\n",
      "C:\\Data\\Antonio\\data\\8-spot 5samples data\\2014-02-26\\DCR_test_2_zlib9.hdf5\n",
      "Saving: C:\\Data\\Antonio\\data\\8-spot 5samples data\\2014-02-26\\DCR_test_2_zlib9.hdf5\n",
      "C:\\Data\\Antonio\\data\\8-spot 5samples data\\2014-02-26\\DCR_test_2_blosc0.hdf5\n",
      "Saving: C:\\Data\\Antonio\\data\\8-spot 5samples data\\2014-02-26\\DCR_test_2_blosc0.hdf5\n",
      "C:\\Data\\Antonio\\data\\8-spot 5samples data\\2014-02-26\\DCR_test_2_blosc1.hdf5\n",
      "Saving: C:\\Data\\Antonio\\data\\8-spot 5samples data\\2014-02-26\\DCR_test_2_blosc1.hdf5\n",
      "C:\\Data\\Antonio\\data\\8-spot 5samples data\\2014-02-26\\DCR_test_2_blosc2.hdf5\n",
      "Saving: C:\\Data\\Antonio\\data\\8-spot 5samples data\\2014-02-26\\DCR_test_2_blosc2.hdf5\n",
      "C:\\Data\\Antonio\\data\\8-spot 5samples data\\2014-02-26\\DCR_test_2_blosc3.hdf5\n",
      "Saving: C:\\Data\\Antonio\\data\\8-spot 5samples data\\2014-02-26\\DCR_test_2_blosc3.hdf5\n",
      "C:\\Data\\Antonio\\data\\8-spot 5samples data\\2014-02-26\\DCR_test_2_blosc4.hdf5\n",
      "Saving: C:\\Data\\Antonio\\data\\8-spot 5samples data\\2014-02-26\\DCR_test_2_blosc4.hdf5\n",
      "C:\\Data\\Antonio\\data\\8-spot 5samples data\\2014-02-26\\DCR_test_2_blosc5.hdf5\n",
      "Saving: C:\\Data\\Antonio\\data\\8-spot 5samples data\\2014-02-26\\DCR_test_2_blosc5.hdf5\n",
      "C:\\Data\\Antonio\\data\\8-spot 5samples data\\2014-02-26\\DCR_test_2_blosc6.hdf5\n",
      "Saving: C:\\Data\\Antonio\\data\\8-spot 5samples data\\2014-02-26\\DCR_test_2_blosc6.hdf5\n",
      "C:\\Data\\Antonio\\data\\8-spot 5samples data\\2014-02-26\\DCR_test_2_blosc7.hdf5\n",
      "Saving: C:\\Data\\Antonio\\data\\8-spot 5samples data\\2014-02-26\\DCR_test_2_blosc7.hdf5\n",
      "C:\\Data\\Antonio\\data\\8-spot 5samples data\\2014-02-26\\DCR_test_2_blosc8.hdf5\n",
      "Saving: C:\\Data\\Antonio\\data\\8-spot 5samples data\\2014-02-26\\DCR_test_2_blosc8.hdf5\n",
      "C:\\Data\\Antonio\\data\\8-spot 5samples data\\2014-02-26\\DCR_test_2_blosc9.hdf5\n",
      "Saving: C:\\Data\\Antonio\\data\\8-spot 5samples data\\2014-02-26\\DCR_test_2_blosc9.hdf5\n"
     ]
    }
   ],
   "source": [
    "write_speed_ = {}\n",
    "file_size_ = {}\n",
    "for complib in ['zlib', 'blosc']:\n",
    "    for complevel in range(0, 10):\n",
    "        compression = {'complevel': complevel, 'complib': complib}\n",
    "        fn = \"%s_%s%d.hdf5\" % (filename[:-4], complib, complevel)\n",
    "        print (fn)\n",
    "        with Timer(fn) as t:\n",
    "            phc.hdf5.save_photon_hdf5(data, close=True, h5_fname=fn, compression=compression)\n",
    "        write_speed_[(complib, complevel)] = t\n",
    "        file_size_[(complib, complevel)] = os.path.getsize(fn)"
   ]
  },
  {
   "cell_type": "code",
   "execution_count": 19,
   "metadata": {
    "collapsed": true
   },
   "outputs": [],
   "source": [
    "t_blosc = [write_speed_[key].interval for key in sorted(write_speed_.keys())if key[0] == 'blosc']\n",
    "t_zlib = [write_speed_[key].interval for key in sorted(write_speed_.keys())if key[0] == 'zlib']\n",
    "\n",
    "size_blosc = [file_size_[key] for key in sorted(file_size_.keys())if key[0] == 'blosc']\n",
    "size_zlib = [file_size_[key] for key in sorted(file_size_.keys())if key[0] == 'zlib']"
   ]
  },
  {
   "cell_type": "code",
   "execution_count": 25,
   "metadata": {
    "collapsed": true
   },
   "outputs": [],
   "source": [
    "write_speed = pd.DataFrame({'zlib': t_zlib, 'blosc': t_blosc})\n",
    "file_size = pd.DataFrame({'zlib': size_zlib, 'blosc': size_blosc})\n",
    "file_size['native'] = os.path.getsize(filename)"
   ]
  },
  {
   "cell_type": "code",
   "execution_count": 21,
   "metadata": {
    "collapsed": false
   },
   "outputs": [
    {
     "data": {
      "text/plain": [
       "<matplotlib.axes._subplots.AxesSubplot at 0x1b526588>"
      ]
     },
     "execution_count": 21,
     "metadata": {},
     "output_type": "execute_result"
    },
    {
     "data": {
      "image/png": "[encoded data removed]",
      "text/plain": [
       "<matplotlib.figure.Figure at 0x1b526be0>"
      ]
     },
     "metadata": {},
     "output_type": "display_data"
    }
   ],
   "source": [
    "write_speed.plot(kind='bar')"
   ]
  },
  {
   "cell_type": "code",
   "execution_count": 22,
   "metadata": {
    "collapsed": false
   },
   "outputs": [
    {
     "data": {
      "text/plain": [
       "(0, 5)"
      ]
     },
     "execution_count": 22,
     "metadata": {},
     "output_type": "execute_result"
    },
    {
     "data": {
      "image/png": "[encoded data removed]",
      "text/plain": [
       "<matplotlib.figure.Figure at 0x1b5260f0>"
      ]
     },
     "metadata": {},
     "output_type": "display_data"
    }
   ],
   "source": [
    "write_speed.plot(kind='bar')\n",
    "plt.ylim(0, 5)"
   ]
  },
  {
   "cell_type": "code",
   "execution_count": null,
   "metadata": {
    "collapsed": true
   },
   "outputs": [],
   "source": [
    "write_speed.to_hdf('benchmark%d.h5' % run_id, key='mspot_write_speed')"
   ]
  },
  {
   "cell_type": "code",
   "execution_count": 26,
   "metadata": {
    "collapsed": false
   },
   "outputs": [],
   "source": [
    "file_size.to_hdf('benchmark%d.h5' % run_id, key='mspot_file_size')"
   ]
  },
  {
   "cell_type": "code",
   "execution_count": null,
   "metadata": {
    "collapsed": true
   },
   "outputs": [],
   "source": [
    "1"
   ]
  },
  {
   "cell_type": "markdown",
   "metadata": {},
   "source": [
    "# Read speed"
   ]
  },
  {
   "cell_type": "code",
   "execution_count": 27,
   "metadata": {
    "collapsed": true
   },
   "outputs": [],
   "source": [
    "#filename = r\"C:\\Data\\Antonio\\data\\8-spot 5samples data\\2014-02-26\\DCR_test_2.hdf5\""
   ]
  },
  {
   "cell_type": "code",
   "execution_count": 28,
   "metadata": {
    "collapsed": false
   },
   "outputs": [
    {
     "name": "stdout",
     "output_type": "stream",
     "text": [
      "C:\\Data\\Antonio\\data\\8-spot 5samples data\\2014-02-26\\DCR_test_2_zlib0.hdf5\n",
      "C:\\Data\\Antonio\\data\\8-spot 5samples data\\2014-02-26\\DCR_test_2_zlib1.hdf5\n",
      "C:\\Data\\Antonio\\data\\8-spot 5samples data\\2014-02-26\\DCR_test_2_zlib2.hdf5\n",
      "C:\\Data\\Antonio\\data\\8-spot 5samples data\\2014-02-26\\DCR_test_2_zlib3.hdf5\n",
      "C:\\Data\\Antonio\\data\\8-spot 5samples data\\2014-02-26\\DCR_test_2_zlib4.hdf5\n",
      "C:\\Data\\Antonio\\data\\8-spot 5samples data\\2014-02-26\\DCR_test_2_zlib5.hdf5\n",
      "C:\\Data\\Antonio\\data\\8-spot 5samples data\\2014-02-26\\DCR_test_2_zlib6.hdf5\n",
      "C:\\Data\\Antonio\\data\\8-spot 5samples data\\2014-02-26\\DCR_test_2_zlib7.hdf5\n",
      "C:\\Data\\Antonio\\data\\8-spot 5samples data\\2014-02-26\\DCR_test_2_zlib8.hdf5\n",
      "C:\\Data\\Antonio\\data\\8-spot 5samples data\\2014-02-26\\DCR_test_2_blosc0.hdf5\n",
      "C:\\Data\\Antonio\\data\\8-spot 5samples data\\2014-02-26\\DCR_test_2_blosc1.hdf5\n",
      "C:\\Data\\Antonio\\data\\8-spot 5samples data\\2014-02-26\\DCR_test_2_blosc2.hdf5\n",
      "C:\\Data\\Antonio\\data\\8-spot 5samples data\\2014-02-26\\DCR_test_2_blosc3.hdf5\n",
      "C:\\Data\\Antonio\\data\\8-spot 5samples data\\2014-02-26\\DCR_test_2_blosc4.hdf5\n",
      "C:\\Data\\Antonio\\data\\8-spot 5samples data\\2014-02-26\\DCR_test_2_blosc5.hdf5\n",
      "C:\\Data\\Antonio\\data\\8-spot 5samples data\\2014-02-26\\DCR_test_2_blosc6.hdf5\n",
      "C:\\Data\\Antonio\\data\\8-spot 5samples data\\2014-02-26\\DCR_test_2_blosc7.hdf5\n",
      "C:\\Data\\Antonio\\data\\8-spot 5samples data\\2014-02-26\\DCR_test_2_blosc8.hdf5\n"
     ]
    }
   ],
   "source": [
    "read_speed_ = {}\n",
    "#cache = []\n",
    "for complib in ['zlib', 'blosc']:\n",
    "    for complevel in range(0, 9):\n",
    "        fn = \"%s_%s%d.hdf5\" % (filename[:-4], complib, complevel)\n",
    "        print (fn)\n",
    "        assert os.path.exists(fn)\n",
    "        with Timer(fn) as t:\n",
    "            \n",
    "            with tables.open_file(fn) as h5:\n",
    "                for ph_data in h5.root._f_iter_nodes():\n",
    "                    if not ph_data._v_name.startswith('photon_data'): continue\n",
    "                    a = ph_data.timestamps.read()\n",
    "                    b = ph_data.detectors.read()\n",
    "                \n",
    "        #cache.append((a,b,c))        \n",
    "        read_speed_[(complib, complevel)] = t\n",
    "#del cache"
   ]
  },
  {
   "cell_type": "code",
   "execution_count": 29,
   "metadata": {
    "collapsed": true
   },
   "outputs": [],
   "source": [
    "t_blosc = [read_speed_[key].interval for key in sorted(read_speed_.keys())if key[0] == 'blosc']\n",
    "t_zlib = [read_speed_[key].interval for key in sorted(read_speed_.keys())if key[0] == 'zlib']"
   ]
  },
  {
   "cell_type": "code",
   "execution_count": 30,
   "metadata": {
    "collapsed": true
   },
   "outputs": [],
   "source": [
    "read_speed = pd.DataFrame({'zlib': t_zlib, 'blosc': t_blosc})"
   ]
  },
  {
   "cell_type": "code",
   "execution_count": 31,
   "metadata": {
    "collapsed": true
   },
   "outputs": [],
   "source": [
    "read_speed = read_speed.join(read_speed_native_numpy)"
   ]
  },
  {
   "cell_type": "code",
   "execution_count": 32,
   "metadata": {
    "collapsed": false
   },
   "outputs": [
    {
     "data": {
      "text/plain": [
       "<matplotlib.axes._subplots.AxesSubplot at 0x2ebe0b70>"
      ]
     },
     "execution_count": 32,
     "metadata": {},
     "output_type": "execute_result"
    },
    {
     "data": {
      "image/png": "[encoded data removed]",
      "text/plain": [
       "<matplotlib.figure.Figure at 0x2ebe05f8>"
      ]
     },
     "metadata": {},
     "output_type": "display_data"
    }
   ],
   "source": [
    "read_speed.plot(kind='bar')"
   ]
  },
  {
   "cell_type": "code",
   "execution_count": 33,
   "metadata": {
    "collapsed": true
   },
   "outputs": [],
   "source": [
    "read_speed.to_hdf('benchmark%d.h5' % run_id, key='mspot_read_speed')"
   ]
  },
  {
   "cell_type": "code",
   "execution_count": null,
   "metadata": {
    "collapsed": true
   },
   "outputs": [],
   "source": []
  },
  {
   "cell_type": "code",
   "execution_count": null,
   "metadata": {
    "collapsed": true
   },
   "outputs": [],
   "source": []
  },
  {
   "cell_type": "code",
   "execution_count": null,
   "metadata": {
    "collapsed": true
   },
   "outputs": [],
   "source": []
  },
  {
   "cell_type": "code",
   "execution_count": 34,
   "metadata": {
    "collapsed": false
   },
   "outputs": [],
   "source": [
    "# import h5py\n",
    "# h5 = h5py.File(filename)\n",
    "# %%timeit\n",
    "# with h5py.File(filename) as h5:\n",
    "#     for name, value in h5.items():\n",
    "#             if not name.startswith('photon_data'): continue\n",
    "#             value['timestamps'][:]\n",
    "#             value['detectors'][:]"
   ]
  },
  {
   "cell_type": "markdown",
   "metadata": {},
   "source": [
    "# Benchmark Summary\n",
    "\n",
    "Multi-spot DAT file (8-spot) 32bit per photon, requiring overflow correction. File contains 89.5 million photons."
   ]
  },
  {
   "cell_type": "code",
   "execution_count": 35,
   "metadata": {
    "collapsed": true
   },
   "outputs": [],
   "source": [
    "read_speed_dat = 10.8\n",
    "read_speed_pytables = 1.42\n",
    "read_speed_h5py = 1.38"
   ]
  },
  {
   "cell_type": "code",
   "execution_count": null,
   "metadata": {
    "collapsed": true
   },
   "outputs": [],
   "source": []
  }
 ],
 "metadata": {
  "kernelspec": {
   "display_name": "Python 2",
   "language": "python",
   "name": "python2"
  },
  "language_info": {
   "codemirror_mode": {
    "name": "ipython",
    "version": 2
   },
   "file_extension": ".py",
   "mimetype": "text/x-python",
   "name": "python",
   "nbconvert_exporter": "python",
   "pygments_lexer": "ipython2",
   "version": "2.7.9"
  }
 },
 "nbformat": 4,
 "nbformat_minor": 0
}
