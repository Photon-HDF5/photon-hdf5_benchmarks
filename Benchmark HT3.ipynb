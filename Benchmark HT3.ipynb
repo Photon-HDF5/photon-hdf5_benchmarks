{
 "cells": [
  {
   "cell_type": "code",
   "execution_count": 1,
   "metadata": {
    "collapsed": false
   },
   "outputs": [],
   "source": [
    "#filename = r'C:/Data/Antonio/software/src/phconvert/notebooks/data/Pre.ht3'\n",
    "filename = r'data/eitan/Pre.ht3'"
   ]
  },
  {
   "cell_type": "code",
   "execution_count": 2,
   "metadata": {
    "collapsed": true
   },
   "outputs": [],
   "source": [
    "run_id = 1"
   ]
  },
  {
   "cell_type": "code",
   "execution_count": 3,
   "metadata": {
    "collapsed": false
   },
   "outputs": [],
   "source": [
    "%matplotlib inline\n",
    "import matplotlib.pyplot as plt\n",
    "import numpy as np\n",
    "import pandas as pd\n",
    "import os\n",
    "import tables"
   ]
  },
  {
   "cell_type": "code",
   "execution_count": 4,
   "metadata": {
    "collapsed": false
   },
   "outputs": [
    {
     "data": {
      "text/plain": [
       "'0.5.3-7-gc062ec1'"
      ]
     },
     "execution_count": 4,
     "metadata": {},
     "output_type": "execute_result"
    }
   ],
   "source": [
    "import phconvert as phc\n",
    "phc.__version__"
   ]
  },
  {
   "cell_type": "code",
   "execution_count": 5,
   "metadata": {
    "collapsed": true
   },
   "outputs": [],
   "source": [
    "import time\n",
    "\n",
    "class Timer:\n",
    "    def __init__(self, name):\n",
    "        self.name = name\n",
    "        \n",
    "    def __enter__(self):\n",
    "        self.start = time.clock()\n",
    "        return self\n",
    "\n",
    "    def __exit__(self, *args):\n",
    "        self.end = time.clock()\n",
    "        self.interval = self.end - self.start"
   ]
  },
  {
   "cell_type": "markdown",
   "metadata": {},
   "source": [
    "# Author"
   ]
  },
  {
   "cell_type": "code",
   "execution_count": 6,
   "metadata": {
    "collapsed": true
   },
   "outputs": [],
   "source": [
    "author = 'Eitan Lerner'\n",
    "author_affiliation = 'UCLA'\n",
    "creator = 'Antonino Ingargiola'\n",
    "creator_affiliation = 'UCLA'"
   ]
  },
  {
   "cell_type": "markdown",
   "metadata": {},
   "source": [
    "# Sample"
   ]
  },
  {
   "cell_type": "code",
   "execution_count": 7,
   "metadata": {
    "collapsed": true
   },
   "outputs": [],
   "source": [
    "comment = 'A demostrative smFRET-nsALEX measurement.'\n",
    "sample_name = 'Doubly-labeled ssDNA partially hybridized to a complementary strand.'\n",
    "dye_names = 'ATTO488, ATTO647N'\n",
    "buffer_name = 'Tris20 mM Ph 7.8'"
   ]
  },
  {
   "cell_type": "markdown",
   "metadata": {},
   "source": [
    "# Prepare data\n",
    "\n",
    "## Read the data"
   ]
  },
  {
   "cell_type": "code",
   "execution_count": 8,
   "metadata": {
    "collapsed": false
   },
   "outputs": [
    {
     "data": {
      "text/html": [
       "<div style=\"max-height:1000px;max-width:1500px;overflow:auto;\">\n",
       "<table border=\"1\" class=\"dataframe\">\n",
       "  <thead>\n",
       "    <tr style=\"text-align: right;\">\n",
       "      <th></th>\n",
       "      <th>native_numpy_numba</th>\n",
       "    </tr>\n",
       "  </thead>\n",
       "  <tbody>\n",
       "    <tr>\n",
       "      <th>0</th>\n",
       "      <td>0.978359</td>\n",
       "    </tr>\n",
       "  </tbody>\n",
       "</table>\n",
       "</div>"
      ],
      "text/plain": [
       "   native_numpy_numba\n",
       "0            0.978359"
      ]
     },
     "execution_count": 8,
     "metadata": {},
     "output_type": "execute_result"
    }
   ],
   "source": [
    "with Timer('pq_read_speed_native_numba') as t:\n",
    "    timestamps, detectors, nanotimes, meta = phc.pqreader.load_ht3(filename)\n",
    "    \n",
    "read_speed_native_numpy_numba = pd.DataFrame({'native_numpy_numba': t.interval}, index=[0])\n",
    "read_speed_native_numpy_numba"
   ]
  },
  {
   "cell_type": "code",
   "execution_count": 9,
   "metadata": {
    "collapsed": false
   },
   "outputs": [
    {
     "name": "stdout",
     "output_type": "stream",
     "text": [
      "NOTE: You can speed-up the loading time by installing numba.\n"
     ]
    },
    {
     "data": {
      "text/html": [
       "<div style=\"max-height:1000px;max-width:1500px;overflow:auto;\">\n",
       "<table border=\"1\" class=\"dataframe\">\n",
       "  <thead>\n",
       "    <tr style=\"text-align: right;\">\n",
       "      <th></th>\n",
       "      <th>native_numpy</th>\n",
       "    </tr>\n",
       "  </thead>\n",
       "  <tbody>\n",
       "    <tr>\n",
       "      <th>0</th>\n",
       "      <td>37.274539</td>\n",
       "    </tr>\n",
       "  </tbody>\n",
       "</table>\n",
       "</div>"
      ],
      "text/plain": [
       "   native_numpy\n",
       "0     37.274539"
      ]
     },
     "execution_count": 9,
     "metadata": {},
     "output_type": "execute_result"
    }
   ],
   "source": [
    "with Timer('pq_read_speed_native') as t:\n",
    "    timestamps, detectors, nanotimes, meta = phc.pqreader.load_ht3(filename, ovcfunc=phc.pqreader._correct_overflow2)\n",
    "\n",
    "read_speed_native_numpy = pd.DataFrame({'native_numpy': t.interval}, index=[0])\n",
    "read_speed_native_numpy"
   ]
  },
  {
   "cell_type": "code",
   "execution_count": 10,
   "metadata": {
    "collapsed": false
   },
   "outputs": [
    {
     "data": {
      "text/plain": [
       "20120771"
      ]
     },
     "execution_count": 10,
     "metadata": {},
     "output_type": "execute_result"
    }
   ],
   "source": [
    "timestamps.size"
   ]
  },
  {
   "cell_type": "code",
   "execution_count": 11,
   "metadata": {
    "collapsed": false
   },
   "outputs": [
    {
     "data": {
      "text/plain": [
       "899.98510079999994"
      ]
     },
     "execution_count": 11,
     "metadata": {},
     "output_type": "execute_result"
    }
   ],
   "source": [
    "(timestamps[-1]-timestamps[0])*50e-9"
   ]
  },
  {
   "cell_type": "code",
   "execution_count": null,
   "metadata": {
    "collapsed": true
   },
   "outputs": [],
   "source": []
  },
  {
   "cell_type": "code",
   "execution_count": 12,
   "metadata": {
    "collapsed": false
   },
   "outputs": [],
   "source": [
    "d, meta = phc.loader.nsalex_ht3(filename,\n",
    "                                donor = 0,\n",
    "                                acceptor = 1,\n",
    "                                alex_period_donor = (150, 1500),\n",
    "                                alex_period_acceptor = (1540, 3050),\n",
    "                                excitation_wavelengths = (470e-9, 635e-9),\n",
    "                                detection_wavelengths = (525e-9, 690e-9),\n",
    "                                time_reversed = False)"
   ]
  },
  {
   "cell_type": "code",
   "execution_count": 13,
   "metadata": {
    "collapsed": false
   },
   "outputs": [
    {
     "data": {
      "image/png": "[encoded data removed]",
      "text/plain": [
       "<matplotlib.figure.Figure at 0xddc3eb8>"
      ]
     },
     "metadata": {},
     "output_type": "display_data"
    }
   ],
   "source": [
    "fig, ax = plt.subplots(figsize=(13, 4))\n",
    "phc.plotter.alternation_hist(d, ax=ax)"
   ]
  },
  {
   "cell_type": "code",
   "execution_count": 14,
   "metadata": {
    "collapsed": false
   },
   "outputs": [
    {
     "name": "stdout",
     "output_type": "stream",
     "text": [
      "('Detector numbers: ', array([  0,   1, 127], dtype=uint8))\n"
     ]
    }
   ],
   "source": [
    "detectors = d['photon_data']['detectors']\n",
    "print('Detector numbers: ', np.unique(detectors))"
   ]
  },
  {
   "cell_type": "code",
   "execution_count": 15,
   "metadata": {
    "collapsed": false
   },
   "outputs": [
    {
     "name": "stdout",
     "output_type": "stream",
     "text": [
      "Detector    Counts\n",
      "--------   --------\n",
      "       0    1788207\n",
      "       1     754729\n",
      "     127   17577835\n"
     ]
    }
   ],
   "source": [
    "print(\"Detector    Counts\")\n",
    "print(\"--------   --------\")\n",
    "for det, count in zip(*np.unique(detectors, return_counts=True)):\n",
    "    print(\"%8d   %8d\" % (det, count))"
   ]
  },
  {
   "cell_type": "markdown",
   "metadata": {},
   "source": [
    "## Add author and sample info"
   ]
  },
  {
   "cell_type": "code",
   "execution_count": 16,
   "metadata": {
    "collapsed": false
   },
   "outputs": [],
   "source": [
    "d['comment'] = comment\n",
    "\n",
    "d['sample'] = dict(\n",
    "    sample_name=sample_name,\n",
    "    dye_names=dye_names,\n",
    "    buffer_name=buffer_name,\n",
    "    num_dyes = len(dye_names.split(',')))\n",
    "\n",
    "d['identity'] = dict(\n",
    "    author=author,\n",
    "    author_affiliation=author_affiliation,\n",
    "    creator=creator,\n",
    "    creator_affiliation=creator_affiliation)"
   ]
  },
  {
   "cell_type": "markdown",
   "metadata": {},
   "source": [
    "# Validate the Photon-HDF5 structure\n",
    "\n",
    "Before writing to disk, we assure the file structure follows the Photon-HDF5 format:"
   ]
  },
  {
   "cell_type": "code",
   "execution_count": 17,
   "metadata": {
    "collapsed": true
   },
   "outputs": [],
   "source": [
    "phc.hdf5.assert_valid_photon_hdf5(d)"
   ]
  },
  {
   "cell_type": "markdown",
   "metadata": {},
   "source": [
    "# Save to Photon-HDF5"
   ]
  },
  {
   "cell_type": "code",
   "execution_count": 18,
   "metadata": {
    "collapsed": false
   },
   "outputs": [
    {
     "name": "stdout",
     "output_type": "stream",
     "text": [
      "data/eitan/Pre_zlib0.hdf5\n",
      "Saving: data/eitan/Pre_zlib0.hdf5\n",
      "data/eitan/Pre_zlib1.hdf5\n",
      "Saving: data/eitan/Pre_zlib1.hdf5\n",
      "data/eitan/Pre_zlib2.hdf5\n",
      "Saving: data/eitan/Pre_zlib2.hdf5\n",
      "data/eitan/Pre_zlib3.hdf5\n",
      "Saving: data/eitan/Pre_zlib3.hdf5\n",
      "data/eitan/Pre_zlib4.hdf5\n",
      "Saving: data/eitan/Pre_zlib4.hdf5\n",
      "data/eitan/Pre_zlib5.hdf5\n",
      "Saving: data/eitan/Pre_zlib5.hdf5\n",
      "data/eitan/Pre_zlib6.hdf5\n",
      "Saving: data/eitan/Pre_zlib6.hdf5\n",
      "data/eitan/Pre_zlib7.hdf5\n",
      "Saving: data/eitan/Pre_zlib7.hdf5\n",
      "data/eitan/Pre_zlib8.hdf5\n",
      "Saving: data/eitan/Pre_zlib8.hdf5\n",
      "data/eitan/Pre_zlib9.hdf5\n",
      "Saving: data/eitan/Pre_zlib9.hdf5\n",
      "data/eitan/Pre_blosc0.hdf5\n",
      "Saving: data/eitan/Pre_blosc0.hdf5\n",
      "data/eitan/Pre_blosc1.hdf5\n",
      "Saving: data/eitan/Pre_blosc1.hdf5\n",
      "data/eitan/Pre_blosc2.hdf5\n",
      "Saving: data/eitan/Pre_blosc2.hdf5\n",
      "data/eitan/Pre_blosc3.hdf5\n",
      "Saving: data/eitan/Pre_blosc3.hdf5\n",
      "data/eitan/Pre_blosc4.hdf5\n",
      "Saving: data/eitan/Pre_blosc4.hdf5\n",
      "data/eitan/Pre_blosc5.hdf5\n",
      "Saving: data/eitan/Pre_blosc5.hdf5\n",
      "data/eitan/Pre_blosc6.hdf5\n",
      "Saving: data/eitan/Pre_blosc6.hdf5\n",
      "data/eitan/Pre_blosc7.hdf5\n",
      "Saving: data/eitan/Pre_blosc7.hdf5\n",
      "data/eitan/Pre_blosc8.hdf5\n",
      "Saving: data/eitan/Pre_blosc8.hdf5\n",
      "data/eitan/Pre_blosc9.hdf5\n",
      "Saving: data/eitan/Pre_blosc9.hdf5\n"
     ]
    }
   ],
   "source": [
    "write_speed_ = {}\n",
    "file_size_ = {}\n",
    "for complib in ['zlib', 'blosc']:\n",
    "    for complevel in range(0, 10):\n",
    "        compression = {'complevel': complevel, 'complib': complib}\n",
    "        fn = \"%s_%s%d.hdf5\" % (filename[:-4], complib, complevel)\n",
    "        print (fn)\n",
    "        with Timer(fn) as t:\n",
    "            phc.hdf5.save_photon_hdf5(d, close=True, h5_fname=fn, compression=compression)\n",
    "        write_speed_[(complib, complevel)] = t\n",
    "        file_size_[(complib, complevel)] = os.path.getsize(fn)"
   ]
  },
  {
   "cell_type": "code",
   "execution_count": 19,
   "metadata": {
    "collapsed": true
   },
   "outputs": [],
   "source": [
    "t_blosc = [write_speed_[key].interval for key in sorted(write_speed_.keys())if key[0] == 'blosc']\n",
    "t_zlib = [write_speed_[key].interval for key in sorted(write_speed_.keys())if key[0] == 'zlib']\n",
    "\n",
    "size_blosc = [file_size_[key] for key in sorted(file_size_.keys())if key[0] == 'blosc']\n",
    "size_zlib = [file_size_[key] for key in sorted(file_size_.keys())if key[0] == 'zlib']"
   ]
  },
  {
   "cell_type": "code",
   "execution_count": 20,
   "metadata": {
    "collapsed": true
   },
   "outputs": [],
   "source": [
    "write_speed = pd.DataFrame({'zlib': t_zlib, 'blosc': t_blosc})\n",
    "file_size = pd.DataFrame({'zlib': size_zlib, 'blosc': size_blosc})\n",
    "file_size['native'] = os.path.getsize(filename)"
   ]
  },
  {
   "cell_type": "code",
   "execution_count": 21,
   "metadata": {
    "collapsed": false
   },
   "outputs": [
    {
     "data": {
      "text/plain": [
       "<matplotlib.axes._subplots.AxesSubplot at 0x107e10f0>"
      ]
     },
     "execution_count": 21,
     "metadata": {},
     "output_type": "execute_result"
    },
    {
     "data": {
      "image/png": "[encoded data removed]",
      "text/plain": [
       "<matplotlib.figure.Figure at 0xe305ba8>"
      ]
     },
     "metadata": {},
     "output_type": "display_data"
    },
    {
     "data": {
      "image/png": "[encoded data removed]",
      "text/plain": [
       "<matplotlib.figure.Figure at 0xdc1ee48>"
      ]
     },
     "metadata": {},
     "output_type": "display_data"
    }
   ],
   "source": [
    "write_speed.plot(kind='bar')\n",
    "file_size.plot(kind='bar')"
   ]
  },
  {
   "cell_type": "code",
   "execution_count": 22,
   "metadata": {
    "collapsed": false
   },
   "outputs": [
    {
     "data": {
      "text/plain": [
       "(0, 1)"
      ]
     },
     "execution_count": 22,
     "metadata": {},
     "output_type": "execute_result"
    },
    {
     "data": {
      "image/png": "[encoded data removed]",
      "text/plain": [
       "<matplotlib.figure.Figure at 0xdcc2358>"
      ]
     },
     "metadata": {},
     "output_type": "display_data"
    }
   ],
   "source": [
    "write_speed.plot(kind='bar')\n",
    "plt.ylim(0, 1)"
   ]
  },
  {
   "cell_type": "code",
   "execution_count": 23,
   "metadata": {
    "collapsed": false
   },
   "outputs": [
    {
     "data": {
      "text/plain": [
       "<matplotlib.axes._subplots.AxesSubplot at 0x104652e8>"
      ]
     },
     "execution_count": 23,
     "metadata": {},
     "output_type": "execute_result"
    },
    {
     "data": {
      "image/png": "[encoded data removed]",
      "text/plain": [
       "<matplotlib.figure.Figure at 0x3d5b438>"
      ]
     },
     "metadata": {},
     "output_type": "display_data"
    }
   ],
   "source": [
    "write_speed.plot(kind='bar')"
   ]
  },
  {
   "cell_type": "code",
   "execution_count": 24,
   "metadata": {
    "collapsed": false
   },
   "outputs": [
    {
     "data": {
      "text/plain": [
       "(0, 1)"
      ]
     },
     "execution_count": 24,
     "metadata": {},
     "output_type": "execute_result"
    },
    {
     "data": {
      "image/png": "[encoded data removed]",
      "text/plain": [
       "<matplotlib.figure.Figure at 0xdcc2828>"
      ]
     },
     "metadata": {},
     "output_type": "display_data"
    }
   ],
   "source": [
    "write_speed.plot(kind='bar')\n",
    "plt.ylim(0, 1)"
   ]
  },
  {
   "cell_type": "code",
   "execution_count": null,
   "metadata": {
    "collapsed": true
   },
   "outputs": [],
   "source": [
    "write_speed.to_hdf('benchmark%d.h5' % run_id, key='ht3_write_speed')"
   ]
  },
  {
   "cell_type": "code",
   "execution_count": 39,
   "metadata": {
    "collapsed": true
   },
   "outputs": [],
   "source": [
    "file_size.to_hdf('benchmark%d.h5' % run_id, key='ht3_file_size')"
   ]
  },
  {
   "cell_type": "markdown",
   "metadata": {},
   "source": [
    "# Read speed"
   ]
  },
  {
   "cell_type": "code",
   "execution_count": 26,
   "metadata": {
    "collapsed": false
   },
   "outputs": [
    {
     "name": "stdout",
     "output_type": "stream",
     "text": [
      "data/eitan/Pre_zlib9.hdf5\n",
      "data/eitan/Pre_zlib8.hdf5\n",
      "data/eitan/Pre_zlib7.hdf5\n",
      "data/eitan/Pre_zlib6.hdf5\n",
      "data/eitan/Pre_zlib5.hdf5\n",
      "data/eitan/Pre_zlib4.hdf5\n",
      "data/eitan/Pre_zlib3.hdf5\n",
      "data/eitan/Pre_zlib2.hdf5\n",
      "data/eitan/Pre_zlib1.hdf5\n",
      "data/eitan/Pre_zlib0.hdf5\n",
      "data/eitan/Pre_blosc9.hdf5\n",
      "data/eitan/Pre_blosc8.hdf5\n",
      "data/eitan/Pre_blosc7.hdf5\n",
      "data/eitan/Pre_blosc6.hdf5\n",
      "data/eitan/Pre_blosc5.hdf5\n",
      "data/eitan/Pre_blosc4.hdf5\n",
      "data/eitan/Pre_blosc3.hdf5\n",
      "data/eitan/Pre_blosc2.hdf5\n",
      "data/eitan/Pre_blosc1.hdf5\n",
      "data/eitan/Pre_blosc0.hdf5\n"
     ]
    }
   ],
   "source": [
    "read_speed_ = {}\n",
    "cache = []\n",
    "for complib in ['zlib', 'blosc']:\n",
    "    for complevel in range(9, -1, -1):\n",
    "        fn = \"%s_%s%d.hdf5\" % (filename[:-4], complib, complevel)\n",
    "        print (fn)\n",
    "        assert os.path.exists(fn)\n",
    "        with Timer(fn) as t:\n",
    "            \n",
    "            with tables.open_file(fn) as h5:\n",
    "                a = h5.root.photon_data.timestamps.read()\n",
    "                b = h5.root.photon_data.detectors.read()\n",
    "                c = h5.root.photon_data.nanotimes.read()\n",
    "        \n",
    "        cache.append((a,b,c))\n",
    "        read_speed_[(complib, complevel)] = t\n",
    "del cache"
   ]
  },
  {
   "cell_type": "code",
   "execution_count": 27,
   "metadata": {
    "collapsed": false
   },
   "outputs": [],
   "source": [
    "#h5 = tables.open_file('data/eitan/Pre.hdf5')"
   ]
  },
  {
   "cell_type": "code",
   "execution_count": 28,
   "metadata": {
    "collapsed": true
   },
   "outputs": [],
   "source": [
    "# h5.root.photon_data.timestamps.chunkshape\n",
    "# h5.root.photon_data.detectors.chunkshape\n",
    "# h5.root.photon_data.nanotimes.chunkshape\n",
    "# h5.root.photon_data.timestamps.size_in_memory\n",
    "# h5.root.photon_data.timestamps.size_on_disk"
   ]
  },
  {
   "cell_type": "code",
   "execution_count": 29,
   "metadata": {
    "collapsed": true
   },
   "outputs": [],
   "source": [
    "t_blosc = [read_speed_[key].interval for key in sorted(read_speed_.keys())if key[0] == 'blosc']\n",
    "t_zlib = [read_speed_[key].interval for key in sorted(read_speed_.keys())if key[0] == 'zlib']"
   ]
  },
  {
   "cell_type": "code",
   "execution_count": 30,
   "metadata": {
    "collapsed": true
   },
   "outputs": [],
   "source": [
    "read_speed = pd.DataFrame({'zlib': t_zlib, 'blosc': t_blosc})"
   ]
  },
  {
   "cell_type": "code",
   "execution_count": 31,
   "metadata": {
    "collapsed": false
   },
   "outputs": [],
   "source": [
    "read_speed = read_speed.join(read_speed_native_numpy)\n",
    "read_speed = read_speed.join(read_speed_native_numpy_numba)"
   ]
  },
  {
   "cell_type": "code",
   "execution_count": 32,
   "metadata": {
    "collapsed": false
   },
   "outputs": [
    {
     "data": {
      "text/plain": [
       "<matplotlib.axes._subplots.AxesSubplot at 0x1058c748>"
      ]
     },
     "execution_count": 32,
     "metadata": {},
     "output_type": "execute_result"
    },
    {
     "data": {
      "image/png": "[encoded data removed]",
      "text/plain": [
       "<matplotlib.figure.Figure at 0x10e82e10>"
      ]
     },
     "metadata": {},
     "output_type": "display_data"
    }
   ],
   "source": [
    "read_speed.plot(kind='bar')"
   ]
  },
  {
   "cell_type": "code",
   "execution_count": 33,
   "metadata": {
    "collapsed": false
   },
   "outputs": [
    {
     "data": {
      "text/plain": [
       "(0, 1.2)"
      ]
     },
     "execution_count": 33,
     "metadata": {},
     "output_type": "execute_result"
    },
    {
     "data": {
      "image/png": "[encoded data removed]",
      "text/plain": [
       "<matplotlib.figure.Figure at 0x112e7908>"
      ]
     },
     "metadata": {},
     "output_type": "display_data"
    }
   ],
   "source": [
    "read_speed.plot(kind='bar')\n",
    "plt.ylim(0, 1.2)"
   ]
  },
  {
   "cell_type": "code",
   "execution_count": 34,
   "metadata": {
    "collapsed": false
   },
   "outputs": [
    {
     "data": {
      "text/plain": [
       "(0, 1.2)"
      ]
     },
     "execution_count": 34,
     "metadata": {},
     "output_type": "execute_result"
    },
    {
     "data": {
      "image/png": "[encoded data removed]",
      "text/plain": [
       "<matplotlib.figure.Figure at 0x11507748>"
      ]
     },
     "metadata": {},
     "output_type": "display_data"
    }
   ],
   "source": [
    "read_speed.plot(kind='bar')\n",
    "plt.ylim(0, 1.2)"
   ]
  },
  {
   "cell_type": "code",
   "execution_count": 35,
   "metadata": {
    "collapsed": false
   },
   "outputs": [
    {
     "data": {
      "text/plain": [
       "(0, 1.2)"
      ]
     },
     "execution_count": 35,
     "metadata": {},
     "output_type": "execute_result"
    },
    {
     "data": {
      "image/png": "[encoded data removed]",
      "text/plain": [
       "<matplotlib.figure.Figure at 0x112b8f28>"
      ]
     },
     "metadata": {},
     "output_type": "display_data"
    }
   ],
   "source": [
    "read_speed.plot(kind='bar')\n",
    "plt.ylim(0, 1.2)"
   ]
  },
  {
   "cell_type": "code",
   "execution_count": 36,
   "metadata": {
    "collapsed": false
   },
   "outputs": [
    {
     "data": {
      "text/html": [
       "<div style=\"max-height:1000px;max-width:1500px;overflow:auto;\">\n",
       "<table border=\"1\" class=\"dataframe\">\n",
       "  <thead>\n",
       "    <tr style=\"text-align: right;\">\n",
       "      <th></th>\n",
       "      <th>blosc</th>\n",
       "      <th>zlib</th>\n",
       "      <th>native_numpy</th>\n",
       "      <th>native_numpy_numba</th>\n",
       "    </tr>\n",
       "  </thead>\n",
       "  <tbody>\n",
       "    <tr>\n",
       "      <th>0</th>\n",
       "      <td>0.154712</td>\n",
       "      <td>0.148167</td>\n",
       "      <td>37.274539</td>\n",
       "      <td>0.978359</td>\n",
       "    </tr>\n",
       "    <tr>\n",
       "      <th>1</th>\n",
       "      <td>0.155966</td>\n",
       "      <td>0.584412</td>\n",
       "      <td>NaN</td>\n",
       "      <td>NaN</td>\n",
       "    </tr>\n",
       "    <tr>\n",
       "      <th>2</th>\n",
       "      <td>0.153241</td>\n",
       "      <td>0.563229</td>\n",
       "      <td>NaN</td>\n",
       "      <td>NaN</td>\n",
       "    </tr>\n",
       "    <tr>\n",
       "      <th>3</th>\n",
       "      <td>0.152987</td>\n",
       "      <td>0.538936</td>\n",
       "      <td>NaN</td>\n",
       "      <td>NaN</td>\n",
       "    </tr>\n",
       "    <tr>\n",
       "      <th>4</th>\n",
       "      <td>0.225491</td>\n",
       "      <td>0.533664</td>\n",
       "      <td>NaN</td>\n",
       "      <td>NaN</td>\n",
       "    </tr>\n",
       "    <tr>\n",
       "      <th>5</th>\n",
       "      <td>0.224690</td>\n",
       "      <td>0.499392</td>\n",
       "      <td>NaN</td>\n",
       "      <td>NaN</td>\n",
       "    </tr>\n",
       "    <tr>\n",
       "      <th>6</th>\n",
       "      <td>0.262756</td>\n",
       "      <td>0.474334</td>\n",
       "      <td>NaN</td>\n",
       "      <td>NaN</td>\n",
       "    </tr>\n",
       "    <tr>\n",
       "      <th>7</th>\n",
       "      <td>0.333553</td>\n",
       "      <td>0.466075</td>\n",
       "      <td>NaN</td>\n",
       "      <td>NaN</td>\n",
       "    </tr>\n",
       "    <tr>\n",
       "      <th>8</th>\n",
       "      <td>0.333610</td>\n",
       "      <td>0.467009</td>\n",
       "      <td>NaN</td>\n",
       "      <td>NaN</td>\n",
       "    </tr>\n",
       "    <tr>\n",
       "      <th>9</th>\n",
       "      <td>0.393065</td>\n",
       "      <td>0.452551</td>\n",
       "      <td>NaN</td>\n",
       "      <td>NaN</td>\n",
       "    </tr>\n",
       "  </tbody>\n",
       "</table>\n",
       "</div>"
      ],
      "text/plain": [
       "      blosc      zlib  native_numpy  native_numpy_numba\n",
       "0  0.154712  0.148167     37.274539            0.978359\n",
       "1  0.155966  0.584412           NaN                 NaN\n",
       "2  0.153241  0.563229           NaN                 NaN\n",
       "3  0.152987  0.538936           NaN                 NaN\n",
       "4  0.225491  0.533664           NaN                 NaN\n",
       "5  0.224690  0.499392           NaN                 NaN\n",
       "6  0.262756  0.474334           NaN                 NaN\n",
       "7  0.333553  0.466075           NaN                 NaN\n",
       "8  0.333610  0.467009           NaN                 NaN\n",
       "9  0.393065  0.452551           NaN                 NaN"
      ]
     },
     "execution_count": 36,
     "metadata": {},
     "output_type": "execute_result"
    }
   ],
   "source": [
    "read_speed"
   ]
  },
  {
   "cell_type": "code",
   "execution_count": 37,
   "metadata": {
    "collapsed": true
   },
   "outputs": [],
   "source": [
    "read_speed.to_hdf('benchmark%d.h5' % run_id, key='ht3_read_speed')"
   ]
  },
  {
   "cell_type": "code",
   "execution_count": null,
   "metadata": {
    "collapsed": true
   },
   "outputs": [],
   "source": []
  },
  {
   "cell_type": "code",
   "execution_count": null,
   "metadata": {
    "collapsed": true
   },
   "outputs": [],
   "source": []
  },
  {
   "cell_type": "code",
   "execution_count": null,
   "metadata": {
    "collapsed": true
   },
   "outputs": [],
   "source": []
  },
  {
   "cell_type": "code",
   "execution_count": null,
   "metadata": {
    "collapsed": true
   },
   "outputs": [],
   "source": []
  },
  {
   "cell_type": "code",
   "execution_count": null,
   "metadata": {
    "collapsed": true
   },
   "outputs": [],
   "source": []
  }
 ],
 "metadata": {
  "kernelspec": {
   "display_name": "Python 2",
   "language": "python",
   "name": "python2"
  },
  "language_info": {
   "codemirror_mode": {
    "name": "ipython",
    "version": 2
   },
   "file_extension": ".py",
   "mimetype": "text/x-python",
   "name": "python",
   "nbconvert_exporter": "python",
   "pygments_lexer": "ipython2",
   "version": "2.7.9"
  }
 },
 "nbformat": 4,
 "nbformat_minor": 0
}
