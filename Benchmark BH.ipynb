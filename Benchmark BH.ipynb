{
 "cells": [
  {
   "cell_type": "code",
   "execution_count": 1,
   "metadata": {
    "collapsed": false
   },
   "outputs": [],
   "source": [
    "filename = r'data/eitan/dsdna_d7+d17_50_50_1.spc'"
   ]
  },
  {
   "cell_type": "code",
   "execution_count": 2,
   "metadata": {
    "collapsed": true
   },
   "outputs": [],
   "source": [
    "run_id = 1"
   ]
  },
  {
   "cell_type": "code",
   "execution_count": 3,
   "metadata": {
    "collapsed": false
   },
   "outputs": [],
   "source": [
    "%matplotlib inline\n",
    "import matplotlib.pyplot as plt\n",
    "import numpy as np\n",
    "import pandas as pd\n",
    "import os\n",
    "import tables"
   ]
  },
  {
   "cell_type": "code",
   "execution_count": 4,
   "metadata": {
    "collapsed": false
   },
   "outputs": [
    {
     "data": {
      "text/plain": [
       "'0.5.3-7-gc062ec1'"
      ]
     },
     "execution_count": 4,
     "metadata": {},
     "output_type": "execute_result"
    }
   ],
   "source": [
    "import phconvert as phc\n",
    "phc.__version__"
   ]
  },
  {
   "cell_type": "code",
   "execution_count": 5,
   "metadata": {
    "collapsed": true
   },
   "outputs": [],
   "source": [
    "import time\n",
    "\n",
    "class Timer:\n",
    "    def __init__(self, name):\n",
    "        self.name = name\n",
    "        \n",
    "    def __enter__(self):\n",
    "        self.start = time.clock()\n",
    "        return self\n",
    "\n",
    "    def __exit__(self, *args):\n",
    "        self.end = time.clock()\n",
    "        self.interval = self.end - self.start"
   ]
  },
  {
   "cell_type": "markdown",
   "metadata": {},
   "source": [
    "# Author"
   ]
  },
  {
   "cell_type": "code",
   "execution_count": 6,
   "metadata": {
    "collapsed": true
   },
   "outputs": [],
   "source": [
    "author = 'Eitan Lerner'\n",
    "author_affiliation = 'UCLA'\n",
    "creator = 'Antonino Ingargiola'\n",
    "creator_affiliation = 'UCLA'"
   ]
  },
  {
   "cell_type": "markdown",
   "metadata": {},
   "source": [
    "# Sample"
   ]
  },
  {
   "cell_type": "code",
   "execution_count": 7,
   "metadata": {
    "collapsed": true
   },
   "outputs": [],
   "source": [
    "comment = 'A demostrative smFRET-nsALEX measurement.'\n",
    "sample_name = '50-50 mixture of two FRET samples'\n",
    "dye_names = 'ATTO550, ATTO647N'\n",
    "buffer_name = 'TE50'"
   ]
  },
  {
   "cell_type": "markdown",
   "metadata": {},
   "source": [
    "# Prepare data\n",
    "\n",
    "## Read the data"
   ]
  },
  {
   "cell_type": "code",
   "execution_count": 8,
   "metadata": {
    "collapsed": true
   },
   "outputs": [],
   "source": [
    "with Timer('bh_read_speed_native') as t:\n",
    "    timestamps, detectors, nanotimes = phc.bhreader.load_spc(filename)"
   ]
  },
  {
   "cell_type": "code",
   "execution_count": 9,
   "metadata": {
    "collapsed": false
   },
   "outputs": [
    {
     "data": {
      "text/html": [
       "<div style=\"max-height:1000px;max-width:1500px;overflow:auto;\">\n",
       "<table border=\"1\" class=\"dataframe\">\n",
       "  <thead>\n",
       "    <tr style=\"text-align: right;\">\n",
       "      <th></th>\n",
       "      <th>native_numpy</th>\n",
       "    </tr>\n",
       "  </thead>\n",
       "  <tbody>\n",
       "    <tr>\n",
       "      <th>0</th>\n",
       "      <td>0.76299</td>\n",
       "    </tr>\n",
       "  </tbody>\n",
       "</table>\n",
       "</div>"
      ],
      "text/plain": [
       "   native_numpy\n",
       "0       0.76299"
      ]
     },
     "execution_count": 9,
     "metadata": {},
     "output_type": "execute_result"
    }
   ],
   "source": [
    "read_speed_native_numpy = pd.DataFrame({'native_numpy': t.interval}, index=[0])\n",
    "read_speed_native_numpy"
   ]
  },
  {
   "cell_type": "code",
   "execution_count": 10,
   "metadata": {
    "collapsed": false
   },
   "outputs": [
    {
     "data": {
      "text/plain": [
       "9716848"
      ]
     },
     "execution_count": 10,
     "metadata": {},
     "output_type": "execute_result"
    }
   ],
   "source": [
    "timestamps.size"
   ]
  },
  {
   "cell_type": "code",
   "execution_count": 11,
   "metadata": {
    "collapsed": false
   },
   "outputs": [
    {
     "data": {
      "text/plain": [
       "2262.7105348199998"
      ]
     },
     "execution_count": 11,
     "metadata": {},
     "output_type": "execute_result"
    }
   ],
   "source": [
    "(timestamps[-1]-timestamps[0])*60e-9"
   ]
  },
  {
   "cell_type": "code",
   "execution_count": 12,
   "metadata": {
    "collapsed": false
   },
   "outputs": [
    {
     "name": "stdout",
     "output_type": "stream",
     "text": [
      " - Loading 'data/eitan/dsdna_d7+d17_50_50_1.spc' ... \n",
      " [DONE]\n",
      "\n",
      "Ignoring arguments `timestamps_units` and `tcspc_range`.\n",
      "These values were retrived from .SET file.\n"
     ]
    }
   ],
   "source": [
    "d, meta = phc.loader.nsalex_bh(filename,\n",
    "                               donor = 4,\n",
    "                               acceptor = 6,\n",
    "                               laser_repetition_rate = 40e6,\n",
    "                               tcspc_range = 60e-9,\n",
    "                               timestamps_unit = 60e-9,\n",
    "                               alex_period_donor = (1750, 3300),\n",
    "                               alex_period_acceptor = (250, 1650),\n",
    "                               excitation_wavelengths = (532e-9, 635e-9),\n",
    "                               detection_wavelengths = (580e-9, 680e-9),\n",
    "                               time_reversed = False,\n",
    "                               allow_missing_set = False)"
   ]
  },
  {
   "cell_type": "code",
   "execution_count": 13,
   "metadata": {
    "collapsed": false
   },
   "outputs": [
    {
     "data": {
      "image/png": "[encoded data removed]",
      "text/plain": [
       "<matplotlib.figure.Figure at 0xd6a1978>"
      ]
     },
     "metadata": {},
     "output_type": "display_data"
    }
   ],
   "source": [
    "fig, ax = plt.subplots(figsize=(13, 4))\n",
    "phc.plotter.alternation_hist(d, ax=ax)"
   ]
  },
  {
   "cell_type": "code",
   "execution_count": 14,
   "metadata": {
    "collapsed": false
   },
   "outputs": [
    {
     "data": {
      "text/plain": [
       "{'creation_time': '2014-03-25 15:58:14',\n",
       " 'filename': 'data/eitan/dsdna_d7+d17_50_50_1.spc',\n",
       " 'software': 'Becker & Hickl SPCM'}"
      ]
     },
     "execution_count": 14,
     "metadata": {},
     "output_type": "execute_result"
    }
   ],
   "source": [
    "d['provenance']"
   ]
  },
  {
   "cell_type": "code",
   "execution_count": 15,
   "metadata": {
    "collapsed": false
   },
   "outputs": [
    {
     "name": "stdout",
     "output_type": "stream",
     "text": [
      "('Detector numbers: ', array([0, 1, 4, 6], dtype=uint8))\n"
     ]
    }
   ],
   "source": [
    "detectors = d['photon_data']['detectors']\n",
    "print('Detector numbers: ', np.unique(detectors))"
   ]
  },
  {
   "cell_type": "code",
   "execution_count": 16,
   "metadata": {
    "collapsed": false
   },
   "outputs": [
    {
     "data": {
      "text/plain": [
       "6    6371466\n",
       "4    3345380\n",
       "1          1\n",
       "0          1\n",
       "dtype: int64"
      ]
     },
     "execution_count": 16,
     "metadata": {},
     "output_type": "execute_result"
    }
   ],
   "source": [
    "pd.Series(detectors).value_counts()"
   ]
  },
  {
   "cell_type": "markdown",
   "metadata": {},
   "source": [
    "## Add author and sample info"
   ]
  },
  {
   "cell_type": "code",
   "execution_count": 17,
   "metadata": {
    "collapsed": false
   },
   "outputs": [],
   "source": [
    "d['comment'] = comment\n",
    "\n",
    "d['sample'] = dict(\n",
    "    sample_name=sample_name,\n",
    "    dye_names=dye_names,\n",
    "    buffer_name=buffer_name,\n",
    "    num_dyes = len(dye_names.split(',')))\n",
    "\n",
    "d['identity'] = dict(\n",
    "    author=author,\n",
    "    author_affiliation=author_affiliation,\n",
    "    creator=creator,\n",
    "    creator_affiliation=creator_affiliation)"
   ]
  },
  {
   "cell_type": "markdown",
   "metadata": {},
   "source": [
    "# Validate the Photon-HDF5 structure\n",
    "\n",
    "Before writing to disk, we assure the file structure follows the Photon-HDF5 format:"
   ]
  },
  {
   "cell_type": "code",
   "execution_count": 18,
   "metadata": {
    "collapsed": false
   },
   "outputs": [],
   "source": [
    "phc.hdf5.assert_valid_photon_hdf5(d)  # Throws an error if not valid!"
   ]
  },
  {
   "cell_type": "markdown",
   "metadata": {},
   "source": [
    "# Save to Photon-HDF5"
   ]
  },
  {
   "cell_type": "code",
   "execution_count": 19,
   "metadata": {
    "collapsed": false
   },
   "outputs": [
    {
     "name": "stdout",
     "output_type": "stream",
     "text": [
      "data/eitan/dsdna_d7+d17_50_50_1_zlib0.hdf5\n",
      "Saving: data/eitan/dsdna_d7+d17_50_50_1_zlib0.hdf5\n",
      "data/eitan/dsdna_d7+d17_50_50_1_zlib1.hdf5\n",
      "Saving: data/eitan/dsdna_d7+d17_50_50_1_zlib1.hdf5\n",
      "data/eitan/dsdna_d7+d17_50_50_1_zlib2.hdf5\n",
      "Saving: data/eitan/dsdna_d7+d17_50_50_1_zlib2.hdf5\n",
      "data/eitan/dsdna_d7+d17_50_50_1_zlib3.hdf5\n",
      "Saving: data/eitan/dsdna_d7+d17_50_50_1_zlib3.hdf5\n",
      "data/eitan/dsdna_d7+d17_50_50_1_zlib4.hdf5\n",
      "Saving: data/eitan/dsdna_d7+d17_50_50_1_zlib4.hdf5\n",
      "data/eitan/dsdna_d7+d17_50_50_1_zlib5.hdf5\n",
      "Saving: data/eitan/dsdna_d7+d17_50_50_1_zlib5.hdf5\n",
      "data/eitan/dsdna_d7+d17_50_50_1_zlib6.hdf5\n",
      "Saving: data/eitan/dsdna_d7+d17_50_50_1_zlib6.hdf5\n",
      "data/eitan/dsdna_d7+d17_50_50_1_zlib7.hdf5\n",
      "Saving: data/eitan/dsdna_d7+d17_50_50_1_zlib7.hdf5\n",
      "data/eitan/dsdna_d7+d17_50_50_1_zlib8.hdf5\n",
      "Saving: data/eitan/dsdna_d7+d17_50_50_1_zlib8.hdf5\n",
      "data/eitan/dsdna_d7+d17_50_50_1_zlib9.hdf5\n",
      "Saving: data/eitan/dsdna_d7+d17_50_50_1_zlib9.hdf5\n",
      "data/eitan/dsdna_d7+d17_50_50_1_blosc0.hdf5\n",
      "Saving: data/eitan/dsdna_d7+d17_50_50_1_blosc0.hdf5\n",
      "data/eitan/dsdna_d7+d17_50_50_1_blosc1.hdf5\n",
      "Saving: data/eitan/dsdna_d7+d17_50_50_1_blosc1.hdf5\n",
      "data/eitan/dsdna_d7+d17_50_50_1_blosc2.hdf5\n",
      "Saving: data/eitan/dsdna_d7+d17_50_50_1_blosc2.hdf5\n",
      "data/eitan/dsdna_d7+d17_50_50_1_blosc3.hdf5\n",
      "Saving: data/eitan/dsdna_d7+d17_50_50_1_blosc3.hdf5\n",
      "data/eitan/dsdna_d7+d17_50_50_1_blosc4.hdf5\n",
      "Saving: data/eitan/dsdna_d7+d17_50_50_1_blosc4.hdf5\n",
      "data/eitan/dsdna_d7+d17_50_50_1_blosc5.hdf5\n",
      "Saving: data/eitan/dsdna_d7+d17_50_50_1_blosc5.hdf5\n",
      "data/eitan/dsdna_d7+d17_50_50_1_blosc6.hdf5\n",
      "Saving: data/eitan/dsdna_d7+d17_50_50_1_blosc6.hdf5\n",
      "data/eitan/dsdna_d7+d17_50_50_1_blosc7.hdf5\n",
      "Saving: data/eitan/dsdna_d7+d17_50_50_1_blosc7.hdf5\n",
      "data/eitan/dsdna_d7+d17_50_50_1_blosc8.hdf5\n",
      "Saving: data/eitan/dsdna_d7+d17_50_50_1_blosc8.hdf5\n",
      "data/eitan/dsdna_d7+d17_50_50_1_blosc9.hdf5\n",
      "Saving: data/eitan/dsdna_d7+d17_50_50_1_blosc9.hdf5\n"
     ]
    }
   ],
   "source": [
    "write_speed_ = {}\n",
    "file_size_ = {}\n",
    "for complib in ['zlib', 'blosc']:\n",
    "    for complevel in range(0, 10):\n",
    "        compression = {'complevel': complevel, 'complib': complib}\n",
    "        fn = \"%s_%s%d.hdf5\" % (filename[:-4], complib, complevel)\n",
    "        print (fn)\n",
    "        with Timer(fn) as t:\n",
    "            phc.hdf5.save_photon_hdf5(d, close=True, h5_fname=fn, compression=compression)\n",
    "        write_speed_[(complib, complevel)] = t\n",
    "        file_size_[(complib, complevel)] = os.path.getsize(fn)"
   ]
  },
  {
   "cell_type": "code",
   "execution_count": 20,
   "metadata": {
    "collapsed": false
   },
   "outputs": [],
   "source": [
    "t_blosc = [write_speed_[key].interval for key in sorted(write_speed_.keys())if key[0] == 'blosc']\n",
    "t_zlib = [write_speed_[key].interval for key in sorted(write_speed_.keys())if key[0] == 'zlib']\n",
    "\n",
    "size_blosc = [file_size_[key] for key in sorted(file_size_.keys())if key[0] == 'blosc']\n",
    "size_zlib = [file_size_[key] for key in sorted(file_size_.keys())if key[0] == 'zlib']"
   ]
  },
  {
   "cell_type": "code",
   "execution_count": 23,
   "metadata": {
    "collapsed": true
   },
   "outputs": [],
   "source": [
    "write_speed = pd.DataFrame({'zlib': t_zlib, 'blosc': t_blosc})\n",
    "file_size = pd.DataFrame({'zlib': size_zlib, 'blosc': size_blosc})\n",
    "file_size['native'] = os.path.getsize(filename)"
   ]
  },
  {
   "cell_type": "code",
   "execution_count": 38,
   "metadata": {
    "collapsed": false
   },
   "outputs": [
    {
     "data": {
      "text/html": [
       "<div style=\"max-height:1000px;max-width:1500px;overflow:auto;\">\n",
       "<table border=\"1\" class=\"dataframe\">\n",
       "  <thead>\n",
       "    <tr style=\"text-align: right;\">\n",
       "      <th></th>\n",
       "      <th>blosc</th>\n",
       "      <th>zlib</th>\n",
       "      <th>native</th>\n",
       "    </tr>\n",
       "  </thead>\n",
       "  <tbody>\n",
       "    <tr>\n",
       "      <th>0</th>\n",
       "      <td>107227112</td>\n",
       "      <td>107227112</td>\n",
       "      <td>58301088</td>\n",
       "    </tr>\n",
       "    <tr>\n",
       "      <th>1</th>\n",
       "      <td>59066014</td>\n",
       "      <td>38073674</td>\n",
       "      <td>58301088</td>\n",
       "    </tr>\n",
       "    <tr>\n",
       "      <th>2</th>\n",
       "      <td>59044956</td>\n",
       "      <td>37829279</td>\n",
       "      <td>58301088</td>\n",
       "    </tr>\n",
       "    <tr>\n",
       "      <th>3</th>\n",
       "      <td>58850871</td>\n",
       "      <td>37645381</td>\n",
       "      <td>58301088</td>\n",
       "    </tr>\n",
       "    <tr>\n",
       "      <th>4</th>\n",
       "      <td>46276220</td>\n",
       "      <td>36710452</td>\n",
       "      <td>58301088</td>\n",
       "    </tr>\n",
       "    <tr>\n",
       "      <th>5</th>\n",
       "      <td>46276220</td>\n",
       "      <td>36399041</td>\n",
       "      <td>58301088</td>\n",
       "    </tr>\n",
       "    <tr>\n",
       "      <th>6</th>\n",
       "      <td>42517549</td>\n",
       "      <td>36271748</td>\n",
       "      <td>58301088</td>\n",
       "    </tr>\n",
       "    <tr>\n",
       "      <th>7</th>\n",
       "      <td>42406901</td>\n",
       "      <td>36199025</td>\n",
       "      <td>58301088</td>\n",
       "    </tr>\n",
       "    <tr>\n",
       "      <th>8</th>\n",
       "      <td>42913224</td>\n",
       "      <td>36156827</td>\n",
       "      <td>58301088</td>\n",
       "    </tr>\n",
       "    <tr>\n",
       "      <th>9</th>\n",
       "      <td>43456204</td>\n",
       "      <td>36142247</td>\n",
       "      <td>58301088</td>\n",
       "    </tr>\n",
       "  </tbody>\n",
       "</table>\n",
       "</div>"
      ],
      "text/plain": [
       "       blosc       zlib    native\n",
       "0  107227112  107227112  58301088\n",
       "1   59066014   38073674  58301088\n",
       "2   59044956   37829279  58301088\n",
       "3   58850871   37645381  58301088\n",
       "4   46276220   36710452  58301088\n",
       "5   46276220   36399041  58301088\n",
       "6   42517549   36271748  58301088\n",
       "7   42406901   36199025  58301088\n",
       "8   42913224   36156827  58301088\n",
       "9   43456204   36142247  58301088"
      ]
     },
     "execution_count": 38,
     "metadata": {},
     "output_type": "execute_result"
    }
   ],
   "source": [
    "file_size"
   ]
  },
  {
   "cell_type": "code",
   "execution_count": 24,
   "metadata": {
    "collapsed": false
   },
   "outputs": [
    {
     "data": {
      "text/plain": [
       "<matplotlib.axes._subplots.AxesSubplot at 0xf6ba550>"
      ]
     },
     "execution_count": 24,
     "metadata": {},
     "output_type": "execute_result"
    },
    {
     "data": {
      "image/png": "[encoded data removed]",
      "text/plain": [
       "<matplotlib.figure.Figure at 0xf185860>"
      ]
     },
     "metadata": {},
     "output_type": "display_data"
    },
    {
     "data": {
      "image/png": "[encoded data removed]",
      "text/plain": [
       "<matplotlib.figure.Figure at 0xdfe4f28>"
      ]
     },
     "metadata": {},
     "output_type": "display_data"
    }
   ],
   "source": [
    "write_speed.plot(kind='bar')\n",
    "file_size.plot(kind='bar')"
   ]
  },
  {
   "cell_type": "code",
   "execution_count": 25,
   "metadata": {
    "collapsed": false
   },
   "outputs": [
    {
     "data": {
      "text/plain": [
       "(0, 5)"
      ]
     },
     "execution_count": 25,
     "metadata": {},
     "output_type": "execute_result"
    },
    {
     "data": {
      "image/png": "[encoded data removed]",
      "text/plain": [
       "<matplotlib.figure.Figure at 0xf185eb8>"
      ]
     },
     "metadata": {},
     "output_type": "display_data"
    }
   ],
   "source": [
    "write_speed.plot(kind='bar')\n",
    "plt.ylim(0, 5)"
   ]
  },
  {
   "cell_type": "code",
   "execution_count": null,
   "metadata": {
    "collapsed": true
   },
   "outputs": [],
   "source": [
    "write_speed.to_hdf('benchmark%d.h5' % run_id, key='bh_write_speed')"
   ]
  },
  {
   "cell_type": "code",
   "execution_count": 39,
   "metadata": {
    "collapsed": true
   },
   "outputs": [],
   "source": [
    "file_size.to_hdf('benchmark%d.h5' % run_id, key='bh_file_size')"
   ]
  },
  {
   "cell_type": "markdown",
   "metadata": {
    "collapsed": true
   },
   "source": [
    "# Read speed"
   ]
  },
  {
   "cell_type": "code",
   "execution_count": 27,
   "metadata": {
    "collapsed": false
   },
   "outputs": [
    {
     "name": "stdout",
     "output_type": "stream",
     "text": [
      "data/eitan/dsdna_d7+d17_50_50_1_zlib0.hdf5\n",
      "data/eitan/dsdna_d7+d17_50_50_1_zlib1.hdf5\n",
      "data/eitan/dsdna_d7+d17_50_50_1_zlib2.hdf5\n",
      "data/eitan/dsdna_d7+d17_50_50_1_zlib3.hdf5\n",
      "data/eitan/dsdna_d7+d17_50_50_1_zlib4.hdf5\n",
      "data/eitan/dsdna_d7+d17_50_50_1_zlib5.hdf5\n",
      "data/eitan/dsdna_d7+d17_50_50_1_zlib6.hdf5\n",
      "data/eitan/dsdna_d7+d17_50_50_1_zlib7.hdf5\n",
      "data/eitan/dsdna_d7+d17_50_50_1_zlib8.hdf5\n",
      "data/eitan/dsdna_d7+d17_50_50_1_zlib9.hdf5\n",
      "data/eitan/dsdna_d7+d17_50_50_1_blosc0.hdf5\n",
      "data/eitan/dsdna_d7+d17_50_50_1_blosc1.hdf5\n",
      "data/eitan/dsdna_d7+d17_50_50_1_blosc2.hdf5\n",
      "data/eitan/dsdna_d7+d17_50_50_1_blosc3.hdf5\n",
      "data/eitan/dsdna_d7+d17_50_50_1_blosc4.hdf5\n",
      "data/eitan/dsdna_d7+d17_50_50_1_blosc5.hdf5\n",
      "data/eitan/dsdna_d7+d17_50_50_1_blosc6.hdf5\n",
      "data/eitan/dsdna_d7+d17_50_50_1_blosc7.hdf5\n",
      "data/eitan/dsdna_d7+d17_50_50_1_blosc8.hdf5\n",
      "data/eitan/dsdna_d7+d17_50_50_1_blosc9.hdf5\n"
     ]
    }
   ],
   "source": [
    "read_speed_ = {}\n",
    "cache = []\n",
    "for complib in ['zlib', 'blosc']:\n",
    "    for complevel in range(0, 10):\n",
    "        fn = \"%s_%s%d.hdf5\" % (filename[:-4], complib, complevel)\n",
    "        print (fn)\n",
    "        assert os.path.exists(fn)\n",
    "        with Timer(fn) as t:\n",
    "            \n",
    "            with tables.open_file(fn) as h5:\n",
    "                a = h5.root.photon_data.timestamps.read()\n",
    "                b = h5.root.photon_data.detectors.read()\n",
    "                c = h5.root.photon_data.nanotimes.read()\n",
    "                \n",
    "        cache.append((a,b,c))        \n",
    "        read_speed_[(complib, complevel)] = t\n",
    "del cache"
   ]
  },
  {
   "cell_type": "code",
   "execution_count": 28,
   "metadata": {
    "collapsed": false
   },
   "outputs": [],
   "source": [
    "t_blosc = [read_speed_[key].interval for key in sorted(read_speed_.keys())if key[0] == 'blosc']\n",
    "t_zlib = [read_speed_[key].interval for key in sorted(read_speed_.keys())if key[0] == 'zlib']"
   ]
  },
  {
   "cell_type": "code",
   "execution_count": 29,
   "metadata": {
    "collapsed": true
   },
   "outputs": [],
   "source": [
    "read_speed = pd.DataFrame({'zlib': t_zlib, 'blosc': t_blosc})"
   ]
  },
  {
   "cell_type": "code",
   "execution_count": 30,
   "metadata": {
    "collapsed": true
   },
   "outputs": [],
   "source": [
    "read_speed = read_speed.join(read_speed_native_numpy)"
   ]
  },
  {
   "cell_type": "code",
   "execution_count": 31,
   "metadata": {
    "collapsed": false
   },
   "outputs": [
    {
     "data": {
      "text/plain": [
       "<matplotlib.axes._subplots.AxesSubplot at 0xfdd1400>"
      ]
     },
     "execution_count": 31,
     "metadata": {},
     "output_type": "execute_result"
    },
    {
     "data": {
      "image/png": "[encoded data removed]",
      "text/plain": [
       "<matplotlib.figure.Figure at 0xf71b710>"
      ]
     },
     "metadata": {},
     "output_type": "display_data"
    }
   ],
   "source": [
    "read_speed.plot(kind='bar')"
   ]
  },
  {
   "cell_type": "code",
   "execution_count": 32,
   "metadata": {
    "collapsed": false
   },
   "outputs": [
    {
     "data": {
      "text/html": [
       "<div style=\"max-height:1000px;max-width:1500px;overflow:auto;\">\n",
       "<table border=\"1\" class=\"dataframe\">\n",
       "  <thead>\n",
       "    <tr style=\"text-align: right;\">\n",
       "      <th></th>\n",
       "      <th>blosc</th>\n",
       "      <th>zlib</th>\n",
       "      <th>native_numpy</th>\n",
       "    </tr>\n",
       "  </thead>\n",
       "  <tbody>\n",
       "    <tr>\n",
       "      <th>0</th>\n",
       "      <td>0.061742</td>\n",
       "      <td>0.063829</td>\n",
       "      <td>0.76299</td>\n",
       "    </tr>\n",
       "    <tr>\n",
       "      <th>1</th>\n",
       "      <td>0.070063</td>\n",
       "      <td>0.279468</td>\n",
       "      <td>NaN</td>\n",
       "    </tr>\n",
       "    <tr>\n",
       "      <th>2</th>\n",
       "      <td>0.070565</td>\n",
       "      <td>0.269170</td>\n",
       "      <td>NaN</td>\n",
       "    </tr>\n",
       "    <tr>\n",
       "      <th>3</th>\n",
       "      <td>0.070368</td>\n",
       "      <td>0.258538</td>\n",
       "      <td>NaN</td>\n",
       "    </tr>\n",
       "    <tr>\n",
       "      <th>4</th>\n",
       "      <td>0.103374</td>\n",
       "      <td>0.260765</td>\n",
       "      <td>NaN</td>\n",
       "    </tr>\n",
       "    <tr>\n",
       "      <th>5</th>\n",
       "      <td>0.103392</td>\n",
       "      <td>0.251044</td>\n",
       "      <td>NaN</td>\n",
       "    </tr>\n",
       "    <tr>\n",
       "      <th>6</th>\n",
       "      <td>0.133330</td>\n",
       "      <td>0.246238</td>\n",
       "      <td>NaN</td>\n",
       "    </tr>\n",
       "    <tr>\n",
       "      <th>7</th>\n",
       "      <td>0.152176</td>\n",
       "      <td>0.245270</td>\n",
       "      <td>NaN</td>\n",
       "    </tr>\n",
       "    <tr>\n",
       "      <th>8</th>\n",
       "      <td>0.151008</td>\n",
       "      <td>0.243387</td>\n",
       "      <td>NaN</td>\n",
       "    </tr>\n",
       "    <tr>\n",
       "      <th>9</th>\n",
       "      <td>0.155041</td>\n",
       "      <td>0.243419</td>\n",
       "      <td>NaN</td>\n",
       "    </tr>\n",
       "  </tbody>\n",
       "</table>\n",
       "</div>"
      ],
      "text/plain": [
       "      blosc      zlib  native_numpy\n",
       "0  0.061742  0.063829       0.76299\n",
       "1  0.070063  0.279468           NaN\n",
       "2  0.070565  0.269170           NaN\n",
       "3  0.070368  0.258538           NaN\n",
       "4  0.103374  0.260765           NaN\n",
       "5  0.103392  0.251044           NaN\n",
       "6  0.133330  0.246238           NaN\n",
       "7  0.152176  0.245270           NaN\n",
       "8  0.151008  0.243387           NaN\n",
       "9  0.155041  0.243419           NaN"
      ]
     },
     "execution_count": 32,
     "metadata": {},
     "output_type": "execute_result"
    }
   ],
   "source": [
    "read_speed"
   ]
  },
  {
   "cell_type": "code",
   "execution_count": 33,
   "metadata": {
    "collapsed": true
   },
   "outputs": [],
   "source": [
    "read_speed.to_hdf('benchmark%d.h5' % run_id, key='bh_read_speed')"
   ]
  },
  {
   "cell_type": "code",
   "execution_count": null,
   "metadata": {
    "collapsed": true
   },
   "outputs": [],
   "source": []
  },
  {
   "cell_type": "code",
   "execution_count": null,
   "metadata": {
    "collapsed": true
   },
   "outputs": [],
   "source": []
  },
  {
   "cell_type": "code",
   "execution_count": null,
   "metadata": {
    "collapsed": true
   },
   "outputs": [],
   "source": []
  },
  {
   "cell_type": "code",
   "execution_count": null,
   "metadata": {
    "collapsed": true
   },
   "outputs": [],
   "source": []
  }
 ],
 "metadata": {
  "kernelspec": {
   "display_name": "Python 2",
   "language": "python",
   "name": "python2"
  },
  "language_info": {
   "codemirror_mode": {
    "name": "ipython",
    "version": 2
   },
   "file_extension": ".py",
   "mimetype": "text/x-python",
   "name": "python",
   "nbconvert_exporter": "python",
   "pygments_lexer": "ipython2",
   "version": "2.7.9"
  }
 },
 "nbformat": 4,
 "nbformat_minor": 0
}
